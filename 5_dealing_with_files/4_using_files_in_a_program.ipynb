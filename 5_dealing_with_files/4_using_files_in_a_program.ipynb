{
 "cells": [
  {
   "cell_type": "markdown",
   "metadata": {},
   "source": [
    "# Using Files in a Program\n",
    "A simple program will be written to illustrate these concepts. It will:\n",
    "1. take two files\n",
    "2. read from one\n",
    "3. convert all of its lower-case letters to upper-case\n",
    "4. write to the other file\n",
    "\n",
    "We'll need to:\n",
    "- have a function take a block of character memory and convert it to upper-case. This function would parameterize the address of a memory block and its size.\n",
    "- have a section of code repeatedly read a buffer, call the conversion function on it, and write the buffer back out to the other file.\n",
    "- begin the program by opening the necessary files.\n",
    "\n",
    "Planning a program like so in the reverse order it works puts focus on the core task, which in this case is particulary converting blocks of characters to upper-case. What all needs to be setup and processed needs to be broken down into smaller and smaller ideas until it's small enough to solve the problem (check out Maureen Sprankle's *Problem Solving and Programming Concepts*).\n",
    "\n",
    "To make programming easier, the `.equ` assigns names to numbers:\n",
    "\n",
    "```assembly\n",
    ".equ LINUX_SYSCALL, 0x80\n",
    "\n",
    "...\n",
    "\n",
    "int $LINUX_SYSCALL\n",
    "```\n",
    "\n",
    "> *Coding is complex, but there are a lot of things we can do like this to make it easier.*\n",
    "\n",
    "For clarity, we'll have more labels than we actuall yuse for jumps. Trace through the program and see what happens in various cases:"
   ]
  },
  {
   "cell_type": "code",
   "execution_count": null,
   "metadata": {
    "vscode": {
     "languageId": "platformio-debug.asm"
    }
   },
   "outputs": [],
   "source": []
  },
  {
   "cell_type": "markdown",
   "metadata": {},
   "source": [
    "Name it `toupper.s` and assemble and link it as usual."
   ]
  }
 ],
 "metadata": {
  "language_info": {
   "name": "python"
  },
  "orig_nbformat": 4
 },
 "nbformat": 4,
 "nbformat_minor": 2
}
