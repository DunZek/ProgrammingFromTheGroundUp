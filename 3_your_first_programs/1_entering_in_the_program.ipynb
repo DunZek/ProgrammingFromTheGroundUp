{
 "cells": [
  {
   "cell_type": "markdown",
   "metadata": {},
   "source": [
    "## Entering in the Program\n",
    "Okay, this first program is simple. In fact, it's not going to do anything but exit! It's short, but it shows some basics about assembly language and Linux programming.\n",
    "\n",
    "You need to enter the program in an editor exactly as written, with the filename `exit.s`\n",
    "\n",
    "The section called *Outline of an Assembly Language Program* we will describe how it works:"
   ]
  },
  {
   "cell_type": "code",
   "execution_count": null,
   "metadata": {
    "vscode": {
     "languageId": "platformio-debug.asm"
    }
   },
   "outputs": [],
   "source": [
    "# PURPOSE:  Writ to illustrate an assembly program and exit.\n",
    "# INPUT:    None.\n",
    "# OUTPUT:   A status code that can be viewed with 'echo $?' later.\n",
    "# VARIABLES:\n",
    "#           %eax holds the system call number\n",
    "#           %ebx holds the return status\n",
    ".section .data\n",
    "\n",
    ".section .text\n",
    ".globl _start\n",
    "_start:\n",
    "    movl $1, %eax   # call the system call for exiting the program\n",
    "    movl $0, %ebx   # define the exit status number\n",
    "    int $0x80       # run kernel's exit command"
   ]
  },
  {
   "cell_type": "markdown",
   "metadata": {},
   "source": [
    "What you have typed in is called the *source code*: the human-readable form of a program.\n",
    "\n",
    "In order to transform it into a program that a computer can run, we need to *assemble* and *link* it, the latter (*assembling*) being the process that transforms what you typed into direct instructions for the machine.\n",
    "\n",
    "An *assembly language* is a more human-readable form of the instructions a computer understands. Assembling transforms the human-readable file into a machine-readable one.\n",
    "\n",
    "To assemble the program type in the command `as exit.s -o exit.o`:\n",
    "- `as` is the command which runs the assembler.\n",
    "- `exit.s` is the source file.\n",
    "- `-o exit.o` tells the assembler to put its output in the file `exit.o`.\n",
    "- `exit.o` is an *object file*: code that is in the machine's language, but has not been completely put together.\n",
    "\n",
    "Most large programs will have several source files, each needing to be converted into an object file.\n",
    "\n",
    "The *linker* is the program that is responsible for putting the object files together and adding information to it so that the kernel knows how to load and run it.\n",
    "\n",
    "In our case, we only have one object file, so the linker is only adding the information to enable it to run.\n",
    "\n",
    "To *link* the file, enter the command `ld exit.o -o exit`:\n",
    "- `ld` is the command to run the linker.\n",
    "- `exit.o` is the object file we want to link.\n",
    "- `-o exit` instructs the linker to output the new program into a file called `exit`.\n",
    "\n",
    "You can run `exit` by typing in the command `./exit`.\n",
    "\n",
    "You'll notice when you type this command, the only thing that happens is that you'll go to the next line. That's because this program does nothing but exit. \n",
    "\n",
    "However immediately after you run the program, if you type in `echo $?`, it will say `0`.\n",
    "\n",
    "What is happening is that every program when it exits gives Linux an *exit status code*, which tells it if everything went all right. If everything was okay, it returns 0.\n",
    "\n",
    "UNIX programs return numbers other than zero to indicate failure or other errors, warnings, or statuses. The programmer determines what each number means."
   ]
  }
 ],
 "metadata": {
  "language_info": {
   "name": "python"
  },
  "orig_nbformat": 4
 },
 "nbformat": 4,
 "nbformat_minor": 2
}
