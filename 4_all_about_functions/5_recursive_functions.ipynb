{
 "cells": [
  {
   "cell_type": "markdown",
   "metadata": {},
   "source": [
    "# Recursive Functions\n",
    "> The next program will stretch your brains even more. The program will compute\n",
    "the *factorial* of a number.\n",
    "\n",
    "A factorial is the product of a number multipled by another fatorial.\n",
    "\n",
    "A recursive function in this case is the factorial function including a factorial function in itself. A *base case* is needed to point where recursion will stop. Otherwise, without it the stack will overflow and run out of memory. In the case of a factorial function, the base case is when the last multiplicand is a 1. \n",
    "\n",
    "Therefore, in our function:\n",
    "1. Examine the number\n",
    "2. Is it 1?\n",
    "3. If so, the answer is 1\n",
    "4. Otherwise, the answer is the number times the factorial of the number minues 1\n",
    "\n",
    "[./factorial.s](./factorial.s)"
   ]
  },
  {
   "cell_type": "markdown",
   "metadata": {},
   "source": []
  }
 ],
 "metadata": {
  "language_info": {
   "name": "python"
  },
  "orig_nbformat": 4
 },
 "nbformat": 4,
 "nbformat_minor": 2
}
