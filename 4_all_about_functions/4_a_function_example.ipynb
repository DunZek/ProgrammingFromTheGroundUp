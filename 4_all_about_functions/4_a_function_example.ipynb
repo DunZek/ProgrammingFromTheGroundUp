{
 "cells": [
  {
   "cell_type": "markdown",
   "metadata": {},
   "source": [
    "# A Function Example\n",
    "> *Let’s take a look at how a function call works in a real program.*\n",
    "\n",
    "We will write the `power` function:\n",
    "- Two parameters: the number and the power we want to raise it to.\n",
    "- Ex: 2 and 3 = 2*2*2 = 8\n",
    "- To simplify, we'll only allow numbers 1 and greater.\n",
    "\n",
    "Some changes since 2003/2004:\n",
    "- We live in a 64-bit dominant era now.\n",
    "- `Error: invalid instruction suffix for push/pop`\n",
    "    - Fix: <https://stackoverflow.com/a/21680219/13973029>\n",
    "- `Error: operand type mismatch for pop/push`\n",
    "    - Fix: <https://stackoverflow.com/a/29573784/13973029>\n",
    "\n",
    "Notes:\n",
    "- 64-bit registers (rax, rbx, etc.) use 8-byte words instead of 4-byte ones (unlike eax, ebx, etc.). So, compensate for that.\n",
    "- An explanation of the stack's base pointer register:\n",
    "    - Note: <https://stackoverflow.com/questions/1395591/what-is-exactly-the-base-pointer-and-stack-pointer-to-what-do-they-point>"
   ]
  },
  {
   "cell_type": "code",
   "execution_count": null,
   "metadata": {
    "vscode": {
     "languageId": "platformio-debug.asm"
    }
   },
   "outputs": [],
   "source": [
    "# PURPOSE:  A program to illustrate how functions work by computing the \n",
    "#           value of 2^3 and 5^2. \n",
    "\n",
    ".section .data\n",
    "# Everything in the main program is stored in registers so the data section doesn't have anything.\n",
    "\n",
    ".section .text\n",
    ".globl _start\n",
    "_start:\n",
    "    # Push second and first arguments to the stack respectively: \n",
    "    push $3    \n",
    "    push $2    \n",
    "\n",
    "    # Call the 'power' function and its subroutines:\n",
    "    call power\n",
    "\n",
    "    # Afterwards, \n",
    "    add $16, %esp   # move stack pointer back\n",
    "    push %eax      # save first answer before calling the next function\n",
    "\n",
    "    \n",
    "power:\n",
    "\n",
    "power_loop_start:\n",
    "\n",
    "end_power:"
   ]
  },
  {
   "cell_type": "markdown",
   "metadata": {},
   "source": [
    "```assembly\n",
    "\n",
    "```\n",
    "\n",
    "```assembly\n",
    "push %rbp\n",
    "mov %rsp, %rbp\n",
    "sub $4, %rsp\n",
    "```\n",
    "\n",
    "```\n",
    "Base Number    <--- 24(%rbp)\n",
    "Power          <--- 16(%rbp)\n",
    "Return Address <--- 8(%rbp)\n",
    "Old %rbp       <--- (%rbp)\n",
    "Current result <--- -8(%rbp) and (%rsp)\n",
    "```"
   ]
  }
 ],
 "metadata": {
  "language_info": {
   "name": "python"
  },
  "orig_nbformat": 4
 },
 "nbformat": 4,
 "nbformat_minor": 2
}
