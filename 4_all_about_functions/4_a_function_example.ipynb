{
 "cells": [
  {
   "cell_type": "markdown",
   "metadata": {},
   "source": [
    "# A Function Example\n",
    "> *Let’s take a look at how a function call works in a real program.*\n",
    "\n",
    "We will write the `power` function:\n",
    "- Two parameters: the number and the power we want to raise it to.\n",
    "- Ex: 2 and 3 = 2*2*2 = 8\n",
    "- To simplify, we'll only allow numbers 1 and greater.\n",
    "\n",
    "Some changes since 2003/2004:\n",
    "- We live in a 64-bit dominant era now.\n",
    "- [Error: invalid instruction suffix for push](https://stackoverflow.com/a/21680219/13973029)\n",
    "- [Error: operand type mismatch for pop](https://stackoverflow.com/a/29573784/13973029)\n",
    "\n",
    "`power.s`:"
   ]
  },
  {
   "cell_type": "code",
   "execution_count": null,
   "metadata": {
    "vscode": {
     "languageId": "platformio-debug.asm"
    }
   },
   "outputs": [],
   "source": [
    "# PURPOSE:  A program to illustrate how functions work by computing the \n",
    "#           value of 2^3 and 5^2. \n",
    "\n",
    ".section .data\n",
    "# Everything in the main program is stored in registers so the data section doesn't have anything.\n",
    "\n",
    ".section .text\n",
    ".globl _start\n",
    "_start:\n",
    "    push $3    # second argument\n",
    "    push $2    # first argument\n",
    "    call power\n",
    "    addl $8, %esp   # move stack pointer back\n",
    "    pushl %eax      # save first answer before calling the next function\n",
    "\n",
    "    "
   ]
  }
 ],
 "metadata": {
  "language_info": {
   "name": "python"
  },
  "orig_nbformat": 4
 },
 "nbformat": 4,
 "nbformat_minor": 2
}
