{
 "cells": [
  {
   "cell_type": "markdown",
   "metadata": {},
   "source": [
    "# Assembly-Language Functions using the C Calling Convention\n",
    "\n",
    "Computer programs use the *stack*, a region of memory that stores data and maintains the last stacked data available first.\n",
    "\n",
    "It lives at the very top addresses of memory. An instruction, `pushl` can be used to push values from either a register or a memory location on top.\n",
    "\n",
    "The top of the stack is located at the \"bottom\" of the stack because the stack actually begins at the end of the line of memory addresses, which is then directed to the start.\n",
    "\n",
    "`popl` can be used to remove values on top of the stack to place it into a register or memory location.\n",
    "\n",
    "The stack can continually grow further down in memory until it trespasses other territories of memory. The stack register, `%esp`, always contains a pointer to the current top of the stack. \n",
    "\n",
    "Using `pushl` and `popl` respectively subtracts 4 from and adds 4 to `%esp`, as a word of data gets pushed unto or popped from the stack. Each take one operand: the register or memory location to push onto the stack (`pushl`) or to receive the data that is popped from it (`popl`).\n",
    "\n",
    "We can directly use the `%esp` register in indirect addressing mode to access a value on top of the stack, like so:\n",
    "```assembly\n",
    "movl (%esp), %eax\n",
    "```\n",
    "\n",
    "To access the value right below the top of the stack, use base pointer addressing mode:\n",
    "```assembly\n",
    "movl 4(%esp), %eax\n",
    "```\n",
    "\n",
    "In C's calling convention, the stack is used to implement a function's local variables, parameters, and return address:\n",
    "1. Upon compilation, a program pushed all of the parameters of a function onto the stack in reverse order they were defined in.\n",
    "2. To execute a function, a `call` instruction is issued with the function it wishes to start, doing two things in order:\n",
    "    1. It pushes the address of the next instruction, the return address onto the stack.\n",
    "    2. It then modifies the `%eip` pointer to point to the start of the function.\n",
    "\n",
    "When the function starts, the stack would look like so, with its top at the bottom:\n",
    "```\n",
    "Parameter #N\n",
    "...\n",
    "Parameter 2\n",
    "Parameter 1\n",
    "Return Address <-- (%esp)\n",
    "```\n",
    "\n",
    "When the function starts running:\n",
    "3. It saves the current base pointer register, `%ebp`, a special register used for accessing function parameters and local variables by doing `pushl %ebp`.\n",
    "4. It copies the stack pointer to `%ebp` by doing `movl %esp, %ebp` so that function parameters can be accessed later as fixed indexes from the base pointer. This is done because the stack will still be used for other reasons, and the stack pointer won't be available.\n",
    "\n",
    "```\n",
    "Parameter #N   <-- \n",
    "...\n",
    "Parameter 2    <-- \n",
    "Parameter 1    <-- \n",
    "Return Address <-- \n",
    "Old %ebp       <-- (%esp)\n",
    "```\n"
   ]
  },
  {
   "cell_type": "code",
   "execution_count": null,
   "metadata": {},
   "outputs": [],
   "source": []
  },
  {
   "cell_type": "markdown",
   "metadata": {},
   "source": [
    "## Destruction of Registers\n",
    "\n",
    "### Extended Specification"
   ]
  }
 ],
 "metadata": {
  "language_info": {
   "name": "python"
  },
  "orig_nbformat": 4
 },
 "nbformat": 4,
 "nbformat_minor": 2
}
